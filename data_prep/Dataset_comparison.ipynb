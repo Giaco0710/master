{
 "cells": [
  {
   "cell_type": "markdown",
   "id": "9d2a9d60",
   "metadata": {},
   "source": [
    "For Comparing content and structure of different datasets"
   ]
  },
  {
   "cell_type": "code",
   "execution_count": 1,
   "id": "37cc70eb",
   "metadata": {},
   "outputs": [],
   "source": [
    "import pandas as pd\n",
    "import csv"
   ]
  },
  {
   "cell_type": "code",
   "execution_count": 2,
   "id": "706fb5e6",
   "metadata": {},
   "outputs": [
    {
     "name": "stdout",
     "output_type": "stream",
     "text": [
      "Loading data...\n"
     ]
    }
   ],
   "source": [
    "print(\"Loading data...\")\n",
    "df1 = pd.read_csv('/Users/giacomoraederscheidt/Dropbox/Paper_Giacomo_Lotti/0 Data/coal_data_filtered_nodup_cleaned.csv')\n",
    "df1['Date'] = pd.to_datetime(df1['Date'])"
   ]
  },
  {
   "cell_type": "code",
   "execution_count": 3,
   "id": "5d285863",
   "metadata": {},
   "outputs": [
    {
     "name": "stdout",
     "output_type": "stream",
     "text": [
      "Loading data...\n"
     ]
    }
   ],
   "source": [
    "print(\"Loading data...\")\n",
    "df2 = pd.read_csv('/Users/giacomoraederscheidt/Dropbox/Paper_Giacomo_Lotti/0 Data/coal_data_filtered_nodup_cleaned2.csv')\n",
    "df2['Date'] = pd.to_datetime(df2['Date'])"
   ]
  },
  {
   "cell_type": "code",
   "execution_count": 4,
   "id": "30d3df95",
   "metadata": {},
   "outputs": [
    {
     "name": "stdout",
     "output_type": "stream",
     "text": [
      "Loading data...\n"
     ]
    }
   ],
   "source": [
    "print(\"Loading data...\")\n",
    "df3 = pd.read_csv('/Users/giacomoraederscheidt/Dropbox/Paper_Giacomo_Lotti/0 Data/coal_data_filtered_nodup_cleaned3.csv')\n",
    "df3['Date'] = pd.to_datetime(df3['Date'])"
   ]
  },
  {
   "cell_type": "code",
   "execution_count": null,
   "id": "c3e38e6e",
   "metadata": {},
   "outputs": [],
   "source": [
    "print(\"Loading data...\")\n",
    "df4 = pd.read_csv('/Users/giacomoraederscheidt/Dropbox/Paper_Giacomo_Lotti/0 Data/coal_data_filtered_sentence_4.csv')\n",
    "df4['Date'] = pd.to_datetime(df4['Date'])"
   ]
  },
  {
   "cell_type": "code",
   "execution_count": null,
   "id": "0ef3134c",
   "metadata": {},
   "outputs": [],
   "source": [
    "print(\"Loading data...\")\n",
    "df5 = pd.read_csv('/Users/giacomoraederscheidt/Dropbox/Paper_Giacomo_Lotti/0 Data/coal_data_preprocessed.csv')\n",
    "df5['Date'] = pd.to_datetime(df5['Date'])"
   ]
  },
  {
   "cell_type": "code",
   "execution_count": null,
   "id": "a58edf43",
   "metadata": {},
   "outputs": [],
   "source": [
    "print(\"Loading data...\")\n",
    "df6 = pd.read_csv('/Users/giacomoraederscheidt/Dropbox/Paper_Giacomo_Lotti/0 Data/coal_data_preprocessed2.csv')\n",
    "df6['Date'] = pd.to_datetime(df6['Date'])"
   ]
  },
  {
   "cell_type": "code",
   "execution_count": 9,
   "id": "93f84b8b",
   "metadata": {},
   "outputs": [
    {
     "name": "stdout",
     "output_type": "stream",
     "text": [
      "df1 length 8515\n",
      "df2 length 8072\n",
      "df3 length 7925\n"
     ]
    }
   ],
   "source": [
    "# Compare number of articles\n",
    "print(\"df1 length\", len(df1))\n",
    "print(\"df2 length\", len(df2))\n",
    "print(\"df3 length\", len(df3))\n"
   ]
  },
  {
   "cell_type": "code",
   "execution_count": null,
   "id": "722b6ff8",
   "metadata": {},
   "outputs": [],
   "source": []
  }
 ],
 "metadata": {
  "kernelspec": {
   "display_name": "Python 3 (ipykernel)",
   "language": "python",
   "name": "python3"
  },
  "language_info": {
   "codemirror_mode": {
    "name": "ipython",
    "version": 3
   },
   "file_extension": ".py",
   "mimetype": "text/x-python",
   "name": "python",
   "nbconvert_exporter": "python",
   "pygments_lexer": "ipython3",
   "version": "3.11.4"
  }
 },
 "nbformat": 4,
 "nbformat_minor": 5
}
