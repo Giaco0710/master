{
 "cells": [
  {
   "cell_type": "markdown",
   "id": "c2e0ba94",
   "metadata": {},
   "source": [
    "## Preprocessing for applying DTM"
   ]
  },
  {
   "cell_type": "code",
   "execution_count": 4,
   "id": "66a02496",
   "metadata": {},
   "outputs": [
    {
     "name": "stderr",
     "output_type": "stream",
     "text": [
      "[nltk_data] Downloading package stopwords to\n",
      "[nltk_data]     /Users/giacomoraederscheidt/nltk_data...\n",
      "[nltk_data]   Package stopwords is already up-to-date!\n",
      "[nltk_data] Downloading package punkt to\n",
      "[nltk_data]     /Users/giacomoraederscheidt/nltk_data...\n",
      "[nltk_data]   Package punkt is already up-to-date!\n"
     ]
    }
   ],
   "source": [
    "import pandas as pd\n",
    "import re\n",
    "import nltk\n",
    "from nltk.corpus import stopwords\n",
    "from nltk.tokenize import word_tokenize, RegexpTokenizer\n",
    "from nltk.stem import PorterStemmer\n",
    "nltk.download('stopwords')\n",
    "nltk.download('punkt')\n",
    "\n",
    "df = pd.read_csv('/Users/giacomoraederscheidt/Dropbox/Paper_Giacomo_Lotti/0 Data/coal_data_filtered_nodup_cleaned3.csv')\n",
    "\n",
    "# Fill NA values\n",
    "df['Article_Text'] = df['Article_Text'].fillna('')\n",
    "df['Date'] = pd.to_datetime(df['Date'], errors='coerce')\n",
    "\n",
    "#remove articles with NA in Date and less than 70 words\n",
    "df['WordCount'] = df['Article_Text'].apply(lambda x: len(word_tokenize(x)))\n",
    "df = df.dropna(subset=['Date'])\n",
    "df = df[df['WordCount'] >= 70]\n",
    "\n",
    "# Preprocessing steps\n",
    "stop_words = set(stopwords.words('english'))\n",
    "additional_stopwords = {\"said\", \"must\", \"will\", \"may\", \"new\", \"can\", \"one\", \"two\", \"three\", \"four\", \"five\", \"html\", \"also\", \n",
    "                        \"like\", \"however\", \"would\", \"make\", \"could\", \"year\", \"ltd\", \"due\", \"rake\", \"since\",\n",
    "                       \"south\", \"africa\", \"sa\",\"southern\", \"african\",\"za\",\"xa\", \"xad\", \"xa\",\n",
    "                       \"pm\", \"am\", \"get\", \"got\",\"need\",\"yesterday\"}\n",
    "years = {\"2010\", \"2011\", \"2012\", \"2013\", \"2014\",\"2015\", \"2016\", \"2017\", \"2018\", \"2019\", \"2020\", \"2021\", \"2022\", \"2023\", \"2024\"}\n",
    "days = {\"Monday\", \"Tuesday\", \"Wednesday\", \"Thursday\", \"Friday\", \"Saturday\", \"Sunday\", \"monday\", \"tuesday\", \"wednesday\", \"thursday\", \"friday\", \"saturday\", \"sunday\"}\n",
    "months = {\"January\", \"january\", \"Jan\", \"February\", \"february\", \"Feb\", \"March\", \"march\", \"April\", \"april\", \"Apr\", \"May\", \"may\", \"June\", \"june\", \"July\", \"july\", \"August\", \"august\", \"September\", \"september\", \"Sep\", \"October\", \"october\", \"Oct\", \"November\", \"november\", \"Nov\", \"December\", \"december\", \"Dec\"}\n",
    "all_stopwords = stop_words.union(additional_stopwords, years, days, months)\n",
    "\n",
    "def preprocess_text(text):\n",
    "    # Ensure text is a string\n",
    "    if not isinstance(text, str):\n",
    "        return text\n",
    "    # Remove or replace characters that are not letters or standard whitespace\n",
    "    text = re.sub(r'[^A-Za-z\\s]+', ' ', text)\n",
    "    #Lowercase\n",
    "    text = text.lower()\n",
    "    # Remove punctuation and numbers\n",
    "    tokenizer = RegexpTokenizer(r'\\b[a-z]+\\b')  #Only alphabetic strings are included\n",
    "    tokens = tokenizer.tokenize(text)\n",
    "    # Remove stopwords\n",
    "    filtered_tokens = [word for word in tokens if word not in all_stopwords]\n",
    "    # Remove tokens containing digits\n",
    "    filtered_tokens = [word for word in filtered_tokens if not any(char.isdigit() for char in word)]\n",
    "    # Stemming\n",
    "    stemmer = PorterStemmer()\n",
    "    stemmed_tokens = [stemmer.stem(word) for word in filtered_tokens]\n",
    "    # Join the processed tokens back into a single string\n",
    "    return ' '.join(stemmed_tokens)\n",
    "\n",
    "# apply to each article the preprocessing funtction\n",
    "df['Processed_Article'] = df['Article_Text'].apply(preprocess_text)\n",
    "\n",
    "# only keep \"coal\" containing articles\n",
    "df = df[df['Processed_Article'].str.contains('coal', case=False)]\n",
    "\n",
    "# remove coal and other non-captured stopowords \n",
    "df['Processed_Article'] = df['Processed_Article'].str.replace(r'\\b(coal|rs|crore|lakh|per|cent|million|tonn|India|india|indian|ad|go|make|carri|net|receiv|includ|base|annual|past|meet|run|around|use|year|day|today|last|ago|of|come|take|mt|km|time|first|requir|newstex|content|cannot|recent|want|give|set|anoth|along|week|ask|made|well|earlier|given|even|far|say|month|total|without|next|follow|expect|among|present|everi|much|besid|a|b|c|d|e|f|g|h|i|j|k|l|m|n|o|p|q|r|s|t|u|v|w|x|y|z)\\b', '', regex=True)\n",
    "\n",
    "# Saving the preprocessed DataFrame\n",
    "df.to_csv('/Users/giacomoraederscheidt/Dropbox/Paper_Giacomo_Lotti/0 Data/coal_data_preprocessed2.csv', index=False)"
   ]
  },
  {
   "cell_type": "code",
   "execution_count": null,
   "id": "d5a5898f",
   "metadata": {},
   "outputs": [],
   "source": []
  }
 ],
 "metadata": {
  "kernelspec": {
   "display_name": "Python 3 (ipykernel)",
   "language": "python",
   "name": "python3"
  },
  "language_info": {
   "codemirror_mode": {
    "name": "ipython",
    "version": 3
   },
   "file_extension": ".py",
   "mimetype": "text/x-python",
   "name": "python",
   "nbconvert_exporter": "python",
   "pygments_lexer": "ipython3",
   "version": "3.11.4"
  }
 },
 "nbformat": 4,
 "nbformat_minor": 5
}
